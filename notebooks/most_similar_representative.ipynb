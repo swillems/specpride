{
 "cells": [
  {
   "cell_type": "code",
   "execution_count": null,
   "metadata": {},
   "outputs": [],
   "source": [
    "from pyopenms import *\n",
    "import pandas as pd\n",
    "import numpy as np\n"
   ]
  },
  {
   "cell_type": "code",
   "execution_count": null,
   "metadata": {},
   "outputs": [],
   "source": [
    "# define input and output file locations\n",
    "input_mgf = \"/home/eugen/Development/EuBIC2020/data/clusters_maracluster.mgf\"\n",
    "output_mgf = \"/home/eugen/Development/EuBIC2020/data/most_similar_cluster_representatives.mgf\""
   ]
  },
  {
   "cell_type": "code",
   "execution_count": null,
   "metadata": {},
   "outputs": [],
   "source": [
    "# load clustered spectra\n",
    "exp = MSExperiment()\n",
    "MascotGenericFile().load(input_mgf, exp)\n",
    "raw_exp = MSExperiment()\n",
    "MascotGenericFile().load(input_mgf, raw_exp)\n",
    "\n",
    "# normalize intensities for each spectrum to a 0.0 to 1.0 range\n",
    "Normalizer().filterPeakMap(exp)"
   ]
  },
  {
   "cell_type": "code",
   "execution_count": null,
   "metadata": {},
   "outputs": [],
   "source": [
    "tolerance = 0.005\n",
    "\n",
    "# definition of distance\n",
    "# XQuestScores.xCorrelationPrescore: simple, binned dot product, normalized by number of peaks.\n",
    "# third parameter of xCorrelationPrescore is binsize in Da\n",
    "def distance(spec1, spec2, method='xcorr'):\n",
    "    if (method=='xcorr'):\n",
    "        xcorr = XQuestScores().xCorrelationPrescore(spec1, spec2, tolerance)\n",
    "        return 1.0-xcorr\n",
    "    \n",
    "    if (method=='int_diff'):\n",
    "        \n",
    "        # alignment of peaks with 20 ppm tolerance\n",
    "        sa = SpectrumAlignment()\n",
    "        param = sa.getParameters()\n",
    "        param.setValue(\"tolerance\", tolerance)\n",
    "        true_string = \"false\"\n",
    "        param.setValue(\"is_relative_tolerance\", true_string.encode())\n",
    "        sa.setParameters(param)\n",
    "\n",
    "        alignment = []\n",
    "        sa.getSpectrumAlignment(alignment, spec1, spec2)\n",
    "        \n",
    "        # sum up intensity differences between matched peaks\n",
    "        in_spec1 = []\n",
    "        in_spec2 = []\n",
    "        dist = 0\n",
    "\n",
    "        for i in range(0, len(alignment)):\n",
    "            in_spec1.append(alignment[i][0])\n",
    "            in_spec2.append(alignment[i][1])\n",
    "            dist += abs(spec1[alignment[i][0]].getIntensity() - spec2[alignment[i][1]].getIntensity())\n",
    "\n",
    "        for i in range(0, spec1.size()):\n",
    "            if (i not in in_spec1):\n",
    "                dist += spec1[i].getIntensity()\n",
    "                \n",
    "        for i in range(0, spec2.size()):\n",
    "            if (i not in in_spec2):\n",
    "                dist += spec2[i].getIntensity()\n",
    "        return dist\n",
    "    \n",
    "    else:\n",
    "        return 0"
   ]
  },
  {
   "cell_type": "code",
   "execution_count": null,
   "metadata": {},
   "outputs": [],
   "source": [
    "cluster_names = []\n",
    "cluster_membership = []\n",
    "\n",
    "# extract cluster names from TITLE\n",
    "for i in range(0,exp.size()):\n",
    "    cl_name = exp[i].getMetaValue(\"TITLE\").decode().split(\";\")[0]\n",
    "    cluster_membership.append(cl_name)\n",
    "    if cl_name not in cluster_names:\n",
    "        cluster_names.append(cl_name)\n"
   ]
  },
  {
   "cell_type": "code",
   "execution_count": null,
   "metadata": {},
   "outputs": [],
   "source": [
    "cluster_membership = pd.Series(cluster_membership)\n",
    "cluster_names[0] == cluster_membership"
   ]
  },
  {
   "cell_type": "code",
   "execution_count": null,
   "metadata": {},
   "outputs": [],
   "source": [
    "export_spec = MSExperiment()\n",
    "range_start = 0\n",
    "\n",
    "for cl in cluster_names:\n",
    "    \n",
    "    print(cl)\n",
    "    # collect the spectra in the current cluster\n",
    "    cluster_reached = False\n",
    "    cluster_ended = False\n",
    "    cluster_spec = []\n",
    "    for i in range(range_start, cluster_membership.size):\n",
    "        if (cl == cluster_membership[i]):\n",
    "            cluster_spec.append(i)\n",
    "            if (not cluster_reached): # found start of cluster\n",
    "                cluster_reached = True\n",
    "        else: # reached end of cluster\n",
    "            if (cluster_reached):\n",
    "                range_start = i-1\n",
    "                break\n",
    "    \n",
    "    # if the cluster only contains one spectrum, just return that one\n",
    "    print(len(cluster_spec))\n",
    "    if (len(cluster_spec) == 1):\n",
    "        export_spec.addSpectrum(raw_exp[cluster_spec[0]])\n",
    "        continue\n",
    "        \n",
    "    # if the cluster does not have any spectra, skip it (should not happen)\n",
    "    if (len(cluster_spec) == 0):\n",
    "        continue\n",
    "    \n",
    "    # initialize distance matrix\n",
    "    dist_matrix = np.zeros((len(cluster_spec), len(cluster_spec)))\n",
    "\n",
    "    # calculate pairwise distances (fill triangular matrix)\n",
    "    for i in range(0, len(cluster_spec)):\n",
    "        for j in range(i, len(cluster_spec)):\n",
    "            dist_matrix[i][j] = distance(exp[cluster_spec[i]], exp[cluster_spec[j]])\n",
    "    \n",
    "    dist_matrix = pd.DataFrame(dist_matrix)\n",
    "\n",
    "    # summarize distances from each spetrum to all others\n",
    "    total_dist = np.zeros(dist_matrix.iloc[0,:].size)\n",
    "    for i in range(0, dist_matrix.iloc[0,:].size):\n",
    "        total_dist[i] = (dist_matrix.iloc[i,:].sum() + dist_matrix.iloc[:,i].sum()) / dist_matrix.iloc[0,:].size\n",
    "\n",
    "    # find best spectrum with minimal distance to all others\n",
    "    best_spec = np.where(total_dist == np.amin(total_dist))\n",
    "\n",
    "    # add best spectrum to set of exported spectra\n",
    "    # first option is used, if several spectra have the same total distance\n",
    "    best_spec = best_spec[0]\n",
    "    if (best_spec.size > 1):\n",
    "        best_spec = best_spec[0]\n",
    "    best_spec = best_spec.item()\n",
    "    export_spec.addSpectrum(raw_exp[cluster_spec[best_spec]])\n",
    "\n",
    "# write out MGF file containing all representative spectra  \n",
    "MascotGenericFile().store(output_mgf, export_spec)\n",
    "        "
   ]
  },
  {
   "cell_type": "code",
   "execution_count": null,
   "metadata": {},
   "outputs": [],
   "source": []
  },
  {
   "cell_type": "code",
   "execution_count": null,
   "metadata": {},
   "outputs": [],
   "source": []
  },
  {
   "cell_type": "code",
   "execution_count": null,
   "metadata": {},
   "outputs": [],
   "source": []
  },
  {
   "cell_type": "code",
   "execution_count": null,
   "metadata": {},
   "outputs": [],
   "source": []
  },
  {
   "cell_type": "code",
   "execution_count": null,
   "metadata": {},
   "outputs": [],
   "source": []
  },
  {
   "cell_type": "code",
   "execution_count": null,
   "metadata": {},
   "outputs": [],
   "source": [
    "\n",
    "\n"
   ]
  },
  {
   "cell_type": "code",
   "execution_count": null,
   "metadata": {},
   "outputs": [],
   "source": [
    "\n"
   ]
  },
  {
   "cell_type": "code",
   "execution_count": null,
   "metadata": {},
   "outputs": [],
   "source": []
  },
  {
   "cell_type": "code",
   "execution_count": null,
   "metadata": {},
   "outputs": [],
   "source": []
  },
  {
   "cell_type": "code",
   "execution_count": null,
   "metadata": {},
   "outputs": [],
   "source": []
  },
  {
   "cell_type": "code",
   "execution_count": null,
   "metadata": {},
   "outputs": [],
   "source": []
  },
  {
   "cell_type": "code",
   "execution_count": null,
   "metadata": {},
   "outputs": [],
   "source": []
  }
 ],
 "metadata": {
  "kernelspec": {
   "display_name": "Python 3",
   "language": "python",
   "name": "python3"
  },
  "language_info": {
   "codemirror_mode": {
    "name": "ipython",
    "version": 3
   },
   "file_extension": ".py",
   "mimetype": "text/x-python",
   "name": "python",
   "nbconvert_exporter": "python",
   "pygments_lexer": "ipython3",
   "version": "3.6.9"
  }
 },
 "nbformat": 4,
 "nbformat_minor": 2
}
